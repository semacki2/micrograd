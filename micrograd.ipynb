{
 "cells": [
  {
   "cell_type": "code",
   "execution_count": 1,
   "metadata": {},
   "outputs": [],
   "source": [
    "import math\n",
    "import numpy as np\n",
    "import matplotlib.pyplot as plt\n",
    "%matplotlib inline"
   ]
  },
  {
   "attachments": {},
   "cell_type": "markdown",
   "metadata": {},
   "source": [
    "## Create the Value class"
   ]
  },
  {
   "cell_type": "code",
   "execution_count": 14,
   "metadata": {},
   "outputs": [],
   "source": [
    "class Value:\n",
    "\n",
    "    def __init__(self, data, _children=(), _operator=None, label=None):\n",
    "        self.data = data\n",
    "        self.gradient = 0.0  # initialize gradient to 0\n",
    "        self._backward = lambda: None  # function to call to backpropagate\n",
    "        self._previous = set(_children)\n",
    "        self._operator = _operator\n",
    "        self.label = label\n",
    "\n",
    "    def __repr__(self):\n",
    "        return f\"Value(data={self.data})\"\n",
    "\n",
    "    def __add__(self, other):\n",
    "        output = Value(self.data + other.data, _children=(self, other), _operator=\"+\")\n",
    "\n",
    "        def _backward():\n",
    "            self.gradient += output.gradient\n",
    "            other.gradient += output.gradient\n",
    "\n",
    "        output._backward = _backward\n",
    "        return output\n",
    "\n",
    "    def __mul__(self, other):\n",
    "        output = Value(self.data * other.data, _children=(self, other), _operator=\"*\")\n",
    "\n",
    "        def _backward():\n",
    "            self.gradient += other.data * output.gradient\n",
    "            other.gradient += self.data * output.gradient\n",
    "\n",
    "        output._backward = _backward\n",
    "        return output\n",
    "\n",
    "    def __sub__(self, other):\n",
    "        return Value(self.data - other.data, _children=(self, other), _operator=\"-\")\n",
    "\n",
    "    def __truediv__(self, other):\n",
    "        return Value(self.data / other.data, _children=(self, other), _operator=\"/\")\n",
    "\n",
    "    def tanh(self):\n",
    "        x = self.data\n",
    "        t = (math.exp(2*x) - 1) / (math.exp(2*x) + 1)\n",
    "        output = Value(t, _children=(self,), _operator=\"tanh\")\n",
    "\n",
    "        def _backward():\n",
    "            self.gradient += (1 - t**2) * output.gradient\n",
    "\n",
    "        output._backward = _backward\n",
    "        return output\n",
    "\n",
    "    def backward(self):\n",
    "        topo = []\n",
    "        visited = set()\n",
    "\n",
    "\n",
    "        def build_topo(v):\n",
    "            if v not in visited:\n",
    "                visited.add(v)\n",
    "                for child in v._previous:\n",
    "                    build_topo(child)\n",
    "                topo.append(v)\n",
    "\n",
    "\n",
    "        build_topo(self)\n",
    "        \n",
    "        self.gradient = 1.0\n",
    "        for node in reversed(topo):\n",
    "            node._backward()\n"
   ]
  },
  {
   "attachments": {},
   "cell_type": "markdown",
   "metadata": {},
   "source": [
    "## Visualize the Value Graph"
   ]
  },
  {
   "cell_type": "code",
   "execution_count": 16,
   "metadata": {},
   "outputs": [],
   "source": [
    "from graphviz import Digraph\n",
    "\n",
    "\n",
    "def trace(root):\n",
    "    # build a set of all nodes and edges in a graph\n",
    "    nodes, edges = set(), set()\n",
    "\n",
    "    def build(v):\n",
    "        if v not in nodes:\n",
    "            nodes.add(v)\n",
    "            \n",
    "            for child in v._previous:\n",
    "                edges.add((child, v))\n",
    "                build(child)\n",
    "\n",
    "    build(root)\n",
    "\n",
    "    return nodes, edges\n",
    "\n",
    "\n",
    "def draw_dot(root):\n",
    "    dot = Digraph(format='svg', graph_attr={'rankdir': 'LR'})  # LR = left to right\n",
    "\n",
    "    nodes, edges = trace(root)\n",
    "\n",
    "    for node in nodes:\n",
    "        uid = str(id(node))\n",
    "\n",
    "        # for any value in the graph, create a rectangular ('record') node for it\n",
    "        dot.node(name=uid, label=\"{ %s | data %.4f | grad %.4f }\" % (node.label, node.data, node.gradient), shape='record')\n",
    "\n",
    "        if node._operator:\n",
    "            # if this value is a result of some operation, craete an op node for it\n",
    "            dot.node(name=uid + node._operator, label=node._operator)\n",
    "\n",
    "            # and connect this node to it\n",
    "            dot.edge(uid + node._operator, uid)\n",
    "\n",
    "    for child, parent in edges:\n",
    "        # connect the child to the parent\n",
    "        dot.edge(str(id(child)), str(id(parent)) + parent._operator)\n",
    "\n",
    "    return dot\n"
   ]
  },
  {
   "attachments": {},
   "cell_type": "markdown",
   "metadata": {},
   "source": [
    "## Backpropagation with a Neuron"
   ]
  },
  {
   "cell_type": "code",
   "execution_count": 24,
   "metadata": {},
   "outputs": [
    {
     "data": {
      "image/svg+xml": "<?xml version=\"1.0\" encoding=\"UTF-8\" standalone=\"no\"?>\n<!DOCTYPE svg PUBLIC \"-//W3C//DTD SVG 1.1//EN\"\n \"http://www.w3.org/Graphics/SVG/1.1/DTD/svg11.dtd\">\n<!-- Generated by graphviz version 2.50.0 (0)\n -->\n<!-- Pages: 1 -->\n<svg width=\"1569pt\" height=\"210pt\"\n viewBox=\"0.00 0.00 1569.00 210.00\" xmlns=\"http://www.w3.org/2000/svg\" xmlns:xlink=\"http://www.w3.org/1999/xlink\">\n<g id=\"graph0\" class=\"graph\" transform=\"scale(1 1) rotate(0) translate(4 206)\">\n<polygon fill=\"white\" stroke=\"transparent\" points=\"-4,4 -4,-206 1565,-206 1565,4 -4,4\"/>\n<!-- 1670085135904 -->\n<g id=\"node1\" class=\"node\">\n<title>1670085135904</title>\n<polygon fill=\"none\" stroke=\"black\" points=\"1065,-109.5 1065,-145.5 1250,-145.5 1250,-109.5 1065,-109.5\"/>\n<text text-anchor=\"middle\" x=\"1076.5\" y=\"-123.8\" font-family=\"Times New Roman,serif\" font-size=\"14.00\">n</text>\n<polyline fill=\"none\" stroke=\"black\" points=\"1088,-109.5 1088,-145.5 \"/>\n<text text-anchor=\"middle\" x=\"1128\" y=\"-123.8\" font-family=\"Times New Roman,serif\" font-size=\"14.00\">data 0.8814</text>\n<polyline fill=\"none\" stroke=\"black\" points=\"1168,-109.5 1168,-145.5 \"/>\n<text text-anchor=\"middle\" x=\"1209\" y=\"-123.8\" font-family=\"Times New Roman,serif\" font-size=\"14.00\">grad 0.5000</text>\n</g>\n<!-- 1670085134176tanh -->\n<g id=\"node14\" class=\"node\">\n<title>1670085134176tanh</title>\n<ellipse fill=\"none\" stroke=\"black\" cx=\"1313\" cy=\"-127.5\" rx=\"27\" ry=\"18\"/>\n<text text-anchor=\"middle\" x=\"1313\" y=\"-123.8\" font-family=\"Times New Roman,serif\" font-size=\"14.00\">tanh</text>\n</g>\n<!-- 1670085135904&#45;&gt;1670085134176tanh -->\n<g id=\"edge9\" class=\"edge\">\n<title>1670085135904&#45;&gt;1670085134176tanh</title>\n<path fill=\"none\" stroke=\"black\" d=\"M1250.01,-127.5C1259.01,-127.5 1267.74,-127.5 1275.66,-127.5\"/>\n<polygon fill=\"black\" stroke=\"black\" points=\"1275.91,-131 1285.91,-127.5 1275.91,-124 1275.91,-131\"/>\n</g>\n<!-- 1670085135904+ -->\n<g id=\"node2\" class=\"node\">\n<title>1670085135904+</title>\n<ellipse fill=\"none\" stroke=\"black\" cx=\"1002\" cy=\"-127.5\" rx=\"27\" ry=\"18\"/>\n<text text-anchor=\"middle\" x=\"1002\" y=\"-123.8\" font-family=\"Times New Roman,serif\" font-size=\"14.00\">+</text>\n</g>\n<!-- 1670085135904+&#45;&gt;1670085135904 -->\n<g id=\"edge1\" class=\"edge\">\n<title>1670085135904+&#45;&gt;1670085135904</title>\n<path fill=\"none\" stroke=\"black\" d=\"M1029.04,-127.5C1036.58,-127.5 1045.3,-127.5 1054.57,-127.5\"/>\n<polygon fill=\"black\" stroke=\"black\" points=\"1054.81,-131 1064.81,-127.5 1054.81,-124 1054.81,-131\"/>\n</g>\n<!-- 1670085147184 -->\n<g id=\"node3\" class=\"node\">\n<title>1670085147184</title>\n<polygon fill=\"none\" stroke=\"black\" points=\"326,-110.5 326,-146.5 554,-146.5 554,-110.5 326,-110.5\"/>\n<text text-anchor=\"middle\" x=\"356.5\" y=\"-124.8\" font-family=\"Times New Roman,serif\" font-size=\"14.00\">x1 * w1</text>\n<polyline fill=\"none\" stroke=\"black\" points=\"387,-110.5 387,-146.5 \"/>\n<text text-anchor=\"middle\" x=\"429.5\" y=\"-124.8\" font-family=\"Times New Roman,serif\" font-size=\"14.00\">data &#45;6.0000</text>\n<polyline fill=\"none\" stroke=\"black\" points=\"472,-110.5 472,-146.5 \"/>\n<text text-anchor=\"middle\" x=\"513\" y=\"-124.8\" font-family=\"Times New Roman,serif\" font-size=\"14.00\">grad 0.5000</text>\n</g>\n<!-- 1670085135712+ -->\n<g id=\"node12\" class=\"node\">\n<title>1670085135712+</title>\n<ellipse fill=\"none\" stroke=\"black\" cx=\"617\" cy=\"-100.5\" rx=\"27\" ry=\"18\"/>\n<text text-anchor=\"middle\" x=\"617\" y=\"-96.8\" font-family=\"Times New Roman,serif\" font-size=\"14.00\">+</text>\n</g>\n<!-- 1670085147184&#45;&gt;1670085135712+ -->\n<g id=\"edge13\" class=\"edge\">\n<title>1670085147184&#45;&gt;1670085135712+</title>\n<path fill=\"none\" stroke=\"black\" d=\"M553.81,-110.45C563.28,-108.93 572.32,-107.49 580.43,-106.19\"/>\n<polygon fill=\"black\" stroke=\"black\" points=\"581.19,-109.61 590.51,-104.58 580.08,-102.7 581.19,-109.61\"/>\n</g>\n<!-- 1670085147184* -->\n<g id=\"node4\" class=\"node\">\n<title>1670085147184*</title>\n<ellipse fill=\"none\" stroke=\"black\" cx=\"263\" cy=\"-128.5\" rx=\"27\" ry=\"18\"/>\n<text text-anchor=\"middle\" x=\"263\" y=\"-124.8\" font-family=\"Times New Roman,serif\" font-size=\"14.00\">*</text>\n</g>\n<!-- 1670085147184*&#45;&gt;1670085147184 -->\n<g id=\"edge2\" class=\"edge\">\n<title>1670085147184*&#45;&gt;1670085147184</title>\n<path fill=\"none\" stroke=\"black\" d=\"M290.2,-128.5C297.62,-128.5 306.23,-128.5 315.48,-128.5\"/>\n<polygon fill=\"black\" stroke=\"black\" points=\"315.76,-132 325.76,-128.5 315.76,-125 315.76,-132\"/>\n</g>\n<!-- 1670085148288 -->\n<g id=\"node5\" class=\"node\">\n<title>1670085148288</title>\n<polygon fill=\"none\" stroke=\"black\" points=\"717,-137.5 717,-173.5 902,-173.5 902,-137.5 717,-137.5\"/>\n<text text-anchor=\"middle\" x=\"728.5\" y=\"-151.8\" font-family=\"Times New Roman,serif\" font-size=\"14.00\">b</text>\n<polyline fill=\"none\" stroke=\"black\" points=\"740,-137.5 740,-173.5 \"/>\n<text text-anchor=\"middle\" x=\"780\" y=\"-151.8\" font-family=\"Times New Roman,serif\" font-size=\"14.00\">data 6.8814</text>\n<polyline fill=\"none\" stroke=\"black\" points=\"820,-137.5 820,-173.5 \"/>\n<text text-anchor=\"middle\" x=\"861\" y=\"-151.8\" font-family=\"Times New Roman,serif\" font-size=\"14.00\">grad 0.5000</text>\n</g>\n<!-- 1670085148288&#45;&gt;1670085135904+ -->\n<g id=\"edge7\" class=\"edge\">\n<title>1670085148288&#45;&gt;1670085135904+</title>\n<path fill=\"none\" stroke=\"black\" d=\"M902.12,-142.03C924.59,-138.73 947.33,-135.39 965.33,-132.74\"/>\n<polygon fill=\"black\" stroke=\"black\" points=\"965.96,-136.19 975.34,-131.27 964.94,-129.26 965.96,-136.19\"/>\n</g>\n<!-- 1670085148336 -->\n<g id=\"node6\" class=\"node\">\n<title>1670085148336</title>\n<polygon fill=\"none\" stroke=\"black\" points=\"0,-165.5 0,-201.5 200,-201.5 200,-165.5 0,-165.5\"/>\n<text text-anchor=\"middle\" x=\"16.5\" y=\"-179.8\" font-family=\"Times New Roman,serif\" font-size=\"14.00\">w1</text>\n<polyline fill=\"none\" stroke=\"black\" points=\"33,-165.5 33,-201.5 \"/>\n<text text-anchor=\"middle\" x=\"75.5\" y=\"-179.8\" font-family=\"Times New Roman,serif\" font-size=\"14.00\">data &#45;3.0000</text>\n<polyline fill=\"none\" stroke=\"black\" points=\"118,-165.5 118,-201.5 \"/>\n<text text-anchor=\"middle\" x=\"159\" y=\"-179.8\" font-family=\"Times New Roman,serif\" font-size=\"14.00\">grad 1.0000</text>\n</g>\n<!-- 1670085148336&#45;&gt;1670085147184* -->\n<g id=\"edge8\" class=\"edge\">\n<title>1670085148336&#45;&gt;1670085147184*</title>\n<path fill=\"none\" stroke=\"black\" d=\"M172.53,-165.44C181.84,-162.67 191.2,-159.67 200,-156.5 210.53,-152.71 221.75,-147.9 231.72,-143.33\"/>\n<polygon fill=\"black\" stroke=\"black\" points=\"233.25,-146.48 240.82,-139.07 230.28,-140.14 233.25,-146.48\"/>\n</g>\n<!-- 1670085145456 -->\n<g id=\"node7\" class=\"node\">\n<title>1670085145456</title>\n<polygon fill=\"none\" stroke=\"black\" points=\"2,-110.5 2,-146.5 198,-146.5 198,-110.5 2,-110.5\"/>\n<text text-anchor=\"middle\" x=\"17\" y=\"-124.8\" font-family=\"Times New Roman,serif\" font-size=\"14.00\">x1</text>\n<polyline fill=\"none\" stroke=\"black\" points=\"32,-110.5 32,-146.5 \"/>\n<text text-anchor=\"middle\" x=\"72\" y=\"-124.8\" font-family=\"Times New Roman,serif\" font-size=\"14.00\">data 2.0000</text>\n<polyline fill=\"none\" stroke=\"black\" points=\"112,-110.5 112,-146.5 \"/>\n<text text-anchor=\"middle\" x=\"155\" y=\"-124.8\" font-family=\"Times New Roman,serif\" font-size=\"14.00\">grad &#45;1.5000</text>\n</g>\n<!-- 1670085145456&#45;&gt;1670085147184* -->\n<g id=\"edge11\" class=\"edge\">\n<title>1670085145456&#45;&gt;1670085147184*</title>\n<path fill=\"none\" stroke=\"black\" d=\"M198.37,-128.5C208.05,-128.5 217.4,-128.5 225.8,-128.5\"/>\n<polygon fill=\"black\" stroke=\"black\" points=\"225.91,-132 235.91,-128.5 225.91,-125 225.91,-132\"/>\n</g>\n<!-- 1670085132592 -->\n<g id=\"node8\" class=\"node\">\n<title>1670085132592</title>\n<polygon fill=\"none\" stroke=\"black\" points=\"328.5,-55.5 328.5,-91.5 551.5,-91.5 551.5,-55.5 328.5,-55.5\"/>\n<text text-anchor=\"middle\" x=\"359\" y=\"-69.8\" font-family=\"Times New Roman,serif\" font-size=\"14.00\">x2 * w2</text>\n<polyline fill=\"none\" stroke=\"black\" points=\"389.5,-55.5 389.5,-91.5 \"/>\n<text text-anchor=\"middle\" x=\"429.5\" y=\"-69.8\" font-family=\"Times New Roman,serif\" font-size=\"14.00\">data 0.0000</text>\n<polyline fill=\"none\" stroke=\"black\" points=\"469.5,-55.5 469.5,-91.5 \"/>\n<text text-anchor=\"middle\" x=\"510.5\" y=\"-69.8\" font-family=\"Times New Roman,serif\" font-size=\"14.00\">grad 0.5000</text>\n</g>\n<!-- 1670085132592&#45;&gt;1670085135712+ -->\n<g id=\"edge6\" class=\"edge\">\n<title>1670085132592&#45;&gt;1670085135712+</title>\n<path fill=\"none\" stroke=\"black\" d=\"M551.83,-90.6C562.05,-92.18 571.82,-93.68 580.51,-95.02\"/>\n<polygon fill=\"black\" stroke=\"black\" points=\"580.12,-98.51 590.54,-96.57 581.19,-91.59 580.12,-98.51\"/>\n</g>\n<!-- 1670085132592* -->\n<g id=\"node9\" class=\"node\">\n<title>1670085132592*</title>\n<ellipse fill=\"none\" stroke=\"black\" cx=\"263\" cy=\"-73.5\" rx=\"27\" ry=\"18\"/>\n<text text-anchor=\"middle\" x=\"263\" y=\"-69.8\" font-family=\"Times New Roman,serif\" font-size=\"14.00\">*</text>\n</g>\n<!-- 1670085132592*&#45;&gt;1670085132592 -->\n<g id=\"edge3\" class=\"edge\">\n<title>1670085132592*&#45;&gt;1670085132592</title>\n<path fill=\"none\" stroke=\"black\" d=\"M290.2,-73.5C298.36,-73.5 307.96,-73.5 318.28,-73.5\"/>\n<polygon fill=\"black\" stroke=\"black\" points=\"318.37,-77 328.37,-73.5 318.37,-70 318.37,-77\"/>\n</g>\n<!-- 1670085145408 -->\n<g id=\"node10\" class=\"node\">\n<title>1670085145408</title>\n<polygon fill=\"none\" stroke=\"black\" points=\"2.5,-55.5 2.5,-91.5 197.5,-91.5 197.5,-55.5 2.5,-55.5\"/>\n<text text-anchor=\"middle\" x=\"19\" y=\"-69.8\" font-family=\"Times New Roman,serif\" font-size=\"14.00\">w2</text>\n<polyline fill=\"none\" stroke=\"black\" points=\"35.5,-55.5 35.5,-91.5 \"/>\n<text text-anchor=\"middle\" x=\"75.5\" y=\"-69.8\" font-family=\"Times New Roman,serif\" font-size=\"14.00\">data 1.0000</text>\n<polyline fill=\"none\" stroke=\"black\" points=\"115.5,-55.5 115.5,-91.5 \"/>\n<text text-anchor=\"middle\" x=\"156.5\" y=\"-69.8\" font-family=\"Times New Roman,serif\" font-size=\"14.00\">grad 0.0000</text>\n</g>\n<!-- 1670085145408&#45;&gt;1670085132592* -->\n<g id=\"edge12\" class=\"edge\">\n<title>1670085145408&#45;&gt;1670085132592*</title>\n<path fill=\"none\" stroke=\"black\" d=\"M197.91,-73.5C207.65,-73.5 217.05,-73.5 225.52,-73.5\"/>\n<polygon fill=\"black\" stroke=\"black\" points=\"225.7,-77 235.7,-73.5 225.7,-70 225.7,-77\"/>\n</g>\n<!-- 1670085135712 -->\n<g id=\"node11\" class=\"node\">\n<title>1670085135712</title>\n<polygon fill=\"none\" stroke=\"black\" points=\"680,-82.5 680,-118.5 939,-118.5 939,-82.5 680,-82.5\"/>\n<text text-anchor=\"middle\" x=\"726\" y=\"-96.8\" font-family=\"Times New Roman,serif\" font-size=\"14.00\">x1w1 + x2w2</text>\n<polyline fill=\"none\" stroke=\"black\" points=\"772,-82.5 772,-118.5 \"/>\n<text text-anchor=\"middle\" x=\"814.5\" y=\"-96.8\" font-family=\"Times New Roman,serif\" font-size=\"14.00\">data &#45;6.0000</text>\n<polyline fill=\"none\" stroke=\"black\" points=\"857,-82.5 857,-118.5 \"/>\n<text text-anchor=\"middle\" x=\"898\" y=\"-96.8\" font-family=\"Times New Roman,serif\" font-size=\"14.00\">grad 0.5000</text>\n</g>\n<!-- 1670085135712&#45;&gt;1670085135904+ -->\n<g id=\"edge14\" class=\"edge\">\n<title>1670085135712&#45;&gt;1670085135904+</title>\n<path fill=\"none\" stroke=\"black\" d=\"M937.57,-118.51C947.55,-119.92 957,-121.26 965.42,-122.46\"/>\n<polygon fill=\"black\" stroke=\"black\" points=\"965.09,-125.95 975.48,-123.88 966.07,-119.01 965.09,-125.95\"/>\n</g>\n<!-- 1670085135712+&#45;&gt;1670085135712 -->\n<g id=\"edge4\" class=\"edge\">\n<title>1670085135712+&#45;&gt;1670085135712</title>\n<path fill=\"none\" stroke=\"black\" d=\"M644.09,-100.5C651.58,-100.5 660.3,-100.5 669.75,-100.5\"/>\n<polygon fill=\"black\" stroke=\"black\" points=\"669.84,-104 679.84,-100.5 669.84,-97 669.84,-104\"/>\n</g>\n<!-- 1670085134176 -->\n<g id=\"node13\" class=\"node\">\n<title>1670085134176</title>\n<polygon fill=\"none\" stroke=\"black\" points=\"1376,-109.5 1376,-145.5 1561,-145.5 1561,-109.5 1376,-109.5\"/>\n<text text-anchor=\"middle\" x=\"1387.5\" y=\"-123.8\" font-family=\"Times New Roman,serif\" font-size=\"14.00\">o</text>\n<polyline fill=\"none\" stroke=\"black\" points=\"1399,-109.5 1399,-145.5 \"/>\n<text text-anchor=\"middle\" x=\"1439\" y=\"-123.8\" font-family=\"Times New Roman,serif\" font-size=\"14.00\">data 0.7071</text>\n<polyline fill=\"none\" stroke=\"black\" points=\"1479,-109.5 1479,-145.5 \"/>\n<text text-anchor=\"middle\" x=\"1520\" y=\"-123.8\" font-family=\"Times New Roman,serif\" font-size=\"14.00\">grad 1.0000</text>\n</g>\n<!-- 1670085134176tanh&#45;&gt;1670085134176 -->\n<g id=\"edge5\" class=\"edge\">\n<title>1670085134176tanh&#45;&gt;1670085134176</title>\n<path fill=\"none\" stroke=\"black\" d=\"M1340.04,-127.5C1347.58,-127.5 1356.3,-127.5 1365.57,-127.5\"/>\n<polygon fill=\"black\" stroke=\"black\" points=\"1365.81,-131 1375.81,-127.5 1365.81,-124 1365.81,-131\"/>\n</g>\n<!-- 1670085145072 -->\n<g id=\"node15\" class=\"node\">\n<title>1670085145072</title>\n<polygon fill=\"none\" stroke=\"black\" points=\"4,-0.5 4,-36.5 196,-36.5 196,-0.5 4,-0.5\"/>\n<text text-anchor=\"middle\" x=\"19\" y=\"-14.8\" font-family=\"Times New Roman,serif\" font-size=\"14.00\">x2</text>\n<polyline fill=\"none\" stroke=\"black\" points=\"34,-0.5 34,-36.5 \"/>\n<text text-anchor=\"middle\" x=\"74\" y=\"-14.8\" font-family=\"Times New Roman,serif\" font-size=\"14.00\">data 0.0000</text>\n<polyline fill=\"none\" stroke=\"black\" points=\"114,-0.5 114,-36.5 \"/>\n<text text-anchor=\"middle\" x=\"155\" y=\"-14.8\" font-family=\"Times New Roman,serif\" font-size=\"14.00\">grad 0.5000</text>\n</g>\n<!-- 1670085145072&#45;&gt;1670085132592* -->\n<g id=\"edge10\" class=\"edge\">\n<title>1670085145072&#45;&gt;1670085132592*</title>\n<path fill=\"none\" stroke=\"black\" d=\"M169.28,-36.5C179.65,-39.61 190.16,-42.98 200,-46.5 210.28,-50.17 221.28,-54.74 231.11,-59.07\"/>\n<polygon fill=\"black\" stroke=\"black\" points=\"229.93,-62.37 240.48,-63.27 232.79,-55.99 229.93,-62.37\"/>\n</g>\n</g>\n</svg>\n",
      "text/plain": [
       "<graphviz.graphs.Digraph at 0x184d8d4faf0>"
      ]
     },
     "execution_count": 24,
     "metadata": {},
     "output_type": "execute_result"
    }
   ],
   "source": [
    "# inputs of neuron\n",
    "x1 = Value(2.0, label='x1')\n",
    "x2 = Value(0.0, label='x2')\n",
    "\n",
    "# weights of neuron\n",
    "w1 = Value(-3.0, label='w1')\n",
    "w2 = Value(1.0, label='w2')\n",
    "\n",
    "# bias of neuron\n",
    "b = Value(6.8813735870195432, label='b')\n",
    "\n",
    "# compute the neuron\n",
    "# n = x1 * w1 + x2 * w2 + b\n",
    "x1w1 = x1 * w1\n",
    "x1w1.label = \"x1 * w1\"\n",
    "\n",
    "x2w2 = x2 * w2\n",
    "x2w2.label = \"x2 * w2\"\n",
    "\n",
    "x1w1x2w2 = x1w1 + x2w2\n",
    "x1w1x2w2.label = \"x1w1 + x2w2\"\n",
    "\n",
    "n = x1w1x2w2 + b\n",
    "n.label = \"n\"\n",
    "\n",
    "# activation function (tanh)\n",
    "o = n.tanh()\n",
    "o.label = \"o\"\n",
    "\n",
    "# backprop\n",
    "o.backward()\n",
    "\n",
    "draw_dot(o)"
   ]
  }
 ],
 "metadata": {
  "kernelspec": {
   "display_name": "Python 3.11.0 ('andrej')",
   "language": "python",
   "name": "python3"
  },
  "language_info": {
   "codemirror_mode": {
    "name": "ipython",
    "version": 3
   },
   "file_extension": ".py",
   "mimetype": "text/x-python",
   "name": "python",
   "nbconvert_exporter": "python",
   "pygments_lexer": "ipython3",
   "version": "3.9.15 (main, Nov 24 2022, 14:39:17) [MSC v.1916 64 bit (AMD64)]"
  },
  "orig_nbformat": 4,
  "vscode": {
   "interpreter": {
    "hash": "c8488218cb55614ce589f52102db3ae120df1ab94a645d769b60db35d87f4371"
   }
  }
 },
 "nbformat": 4,
 "nbformat_minor": 2
}
